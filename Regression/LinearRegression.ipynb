{
 "cells": [
  {
   "cell_type": "code",
   "execution_count": 1,
   "metadata": {},
   "outputs": [],
   "source": [
    "import matplotlib.pyplot as plt\n",
    "import pandas as pd\n",
    "import pylab as pl\n",
    "import numpy as np\n",
    "import os\n",
    "from sklearn import linear_model\n",
    "from sklearn.metrics import r2_score"
   ]
  },
  {
   "cell_type": "code",
   "execution_count": 2,
   "metadata": {},
   "outputs": [
    {
     "data": {
      "text/html": [
       "<div>\n",
       "<style scoped>\n",
       "    .dataframe tbody tr th:only-of-type {\n",
       "        vertical-align: middle;\n",
       "    }\n",
       "\n",
       "    .dataframe tbody tr th {\n",
       "        vertical-align: top;\n",
       "    }\n",
       "\n",
       "    .dataframe thead th {\n",
       "        text-align: right;\n",
       "    }\n",
       "</style>\n",
       "<table border=\"1\" class=\"dataframe\">\n",
       "  <thead>\n",
       "    <tr style=\"text-align: right;\">\n",
       "      <th></th>\n",
       "      <th>YEAR</th>\n",
       "      <th>ANNUAL</th>\n",
       "      <th>AUTUMN</th>\n",
       "      <th>SUMMER</th>\n",
       "      <th>MONSOON</th>\n",
       "      <th>WINTER</th>\n",
       "    </tr>\n",
       "  </thead>\n",
       "  <tbody>\n",
       "    <tr>\n",
       "      <th>count</th>\n",
       "      <td>117.000000</td>\n",
       "      <td>117.000000</td>\n",
       "      <td>117.000000</td>\n",
       "      <td>117.000000</td>\n",
       "      <td>117.000000</td>\n",
       "      <td>117.000000</td>\n",
       "    </tr>\n",
       "    <tr>\n",
       "      <th>mean</th>\n",
       "      <td>1959.000000</td>\n",
       "      <td>24.278718</td>\n",
       "      <td>19.259060</td>\n",
       "      <td>26.087350</td>\n",
       "      <td>27.233333</td>\n",
       "      <td>21.880171</td>\n",
       "    </tr>\n",
       "    <tr>\n",
       "      <th>std</th>\n",
       "      <td>33.919021</td>\n",
       "      <td>0.436950</td>\n",
       "      <td>0.672593</td>\n",
       "      <td>0.609349</td>\n",
       "      <td>0.316021</td>\n",
       "      <td>0.549829</td>\n",
       "    </tr>\n",
       "    <tr>\n",
       "      <th>min</th>\n",
       "      <td>1901.000000</td>\n",
       "      <td>23.560000</td>\n",
       "      <td>17.580000</td>\n",
       "      <td>24.890000</td>\n",
       "      <td>26.530000</td>\n",
       "      <td>20.960000</td>\n",
       "    </tr>\n",
       "    <tr>\n",
       "      <th>25%</th>\n",
       "      <td>1930.000000</td>\n",
       "      <td>24.000000</td>\n",
       "      <td>18.850000</td>\n",
       "      <td>25.690000</td>\n",
       "      <td>27.060000</td>\n",
       "      <td>21.480000</td>\n",
       "    </tr>\n",
       "    <tr>\n",
       "      <th>50%</th>\n",
       "      <td>1959.000000</td>\n",
       "      <td>24.150000</td>\n",
       "      <td>19.120000</td>\n",
       "      <td>26.030000</td>\n",
       "      <td>27.180000</td>\n",
       "      <td>21.820000</td>\n",
       "    </tr>\n",
       "    <tr>\n",
       "      <th>75%</th>\n",
       "      <td>1988.000000</td>\n",
       "      <td>24.460000</td>\n",
       "      <td>19.610000</td>\n",
       "      <td>26.420000</td>\n",
       "      <td>27.340000</td>\n",
       "      <td>22.170000</td>\n",
       "    </tr>\n",
       "    <tr>\n",
       "      <th>max</th>\n",
       "      <td>2017.000000</td>\n",
       "      <td>26.450000</td>\n",
       "      <td>22.250000</td>\n",
       "      <td>28.860000</td>\n",
       "      <td>28.500000</td>\n",
       "      <td>24.210000</td>\n",
       "    </tr>\n",
       "  </tbody>\n",
       "</table>\n",
       "</div>"
      ],
      "text/plain": [
       "              YEAR      ANNUAL      AUTUMN      SUMMER     MONSOON      WINTER\n",
       "count   117.000000  117.000000  117.000000  117.000000  117.000000  117.000000\n",
       "mean   1959.000000   24.278718   19.259060   26.087350   27.233333   21.880171\n",
       "std      33.919021    0.436950    0.672593    0.609349    0.316021    0.549829\n",
       "min    1901.000000   23.560000   17.580000   24.890000   26.530000   20.960000\n",
       "25%    1930.000000   24.000000   18.850000   25.690000   27.060000   21.480000\n",
       "50%    1959.000000   24.150000   19.120000   26.030000   27.180000   21.820000\n",
       "75%    1988.000000   24.460000   19.610000   26.420000   27.340000   22.170000\n",
       "max    2017.000000   26.450000   22.250000   28.860000   28.500000   24.210000"
      ]
     },
     "execution_count": 2,
     "metadata": {},
     "output_type": "execute_result"
    }
   ],
   "source": [
    "df = pd.read_csv(r\"D:\\ASHSIH\\ENGG\\COURSES\\MachineLearning\\MeanTemp.csv\")\n",
    "df.head()\n",
    "df.describe()"
   ]
  },
  {
   "cell_type": "code",
   "execution_count": 3,
   "metadata": {},
   "outputs": [
    {
     "data": {
      "text/html": [
       "<div>\n",
       "<style scoped>\n",
       "    .dataframe tbody tr th:only-of-type {\n",
       "        vertical-align: middle;\n",
       "    }\n",
       "\n",
       "    .dataframe tbody tr th {\n",
       "        vertical-align: top;\n",
       "    }\n",
       "\n",
       "    .dataframe thead th {\n",
       "        text-align: right;\n",
       "    }\n",
       "</style>\n",
       "<table border=\"1\" class=\"dataframe\">\n",
       "  <thead>\n",
       "    <tr style=\"text-align: right;\">\n",
       "      <th></th>\n",
       "      <th>AUTUMN</th>\n",
       "      <th>SUMMER</th>\n",
       "      <th>MONSOON</th>\n",
       "      <th>WINTER</th>\n",
       "      <th>ANNUAL</th>\n",
       "    </tr>\n",
       "  </thead>\n",
       "  <tbody>\n",
       "    <tr>\n",
       "      <th>0</th>\n",
       "      <td>18.71</td>\n",
       "      <td>26.06</td>\n",
       "      <td>27.30</td>\n",
       "      <td>21.92</td>\n",
       "      <td>24.23</td>\n",
       "    </tr>\n",
       "    <tr>\n",
       "      <th>1</th>\n",
       "      <td>19.70</td>\n",
       "      <td>26.44</td>\n",
       "      <td>27.18</td>\n",
       "      <td>21.49</td>\n",
       "      <td>24.33</td>\n",
       "    </tr>\n",
       "    <tr>\n",
       "      <th>2</th>\n",
       "      <td>19.05</td>\n",
       "      <td>25.47</td>\n",
       "      <td>27.17</td>\n",
       "      <td>21.27</td>\n",
       "      <td>23.80</td>\n",
       "    </tr>\n",
       "    <tr>\n",
       "      <th>3</th>\n",
       "      <td>18.66</td>\n",
       "      <td>25.84</td>\n",
       "      <td>26.83</td>\n",
       "      <td>21.42</td>\n",
       "      <td>23.86</td>\n",
       "    </tr>\n",
       "    <tr>\n",
       "      <th>4</th>\n",
       "      <td>17.58</td>\n",
       "      <td>24.99</td>\n",
       "      <td>27.37</td>\n",
       "      <td>21.48</td>\n",
       "      <td>23.71</td>\n",
       "    </tr>\n",
       "    <tr>\n",
       "      <th>5</th>\n",
       "      <td>18.37</td>\n",
       "      <td>25.93</td>\n",
       "      <td>27.15</td>\n",
       "      <td>22.08</td>\n",
       "      <td>24.12</td>\n",
       "    </tr>\n",
       "    <tr>\n",
       "      <th>6</th>\n",
       "      <td>19.35</td>\n",
       "      <td>24.89</td>\n",
       "      <td>26.89</td>\n",
       "      <td>21.76</td>\n",
       "      <td>23.87</td>\n",
       "    </tr>\n",
       "    <tr>\n",
       "      <th>7</th>\n",
       "      <td>19.04</td>\n",
       "      <td>26.02</td>\n",
       "      <td>26.95</td>\n",
       "      <td>21.17</td>\n",
       "      <td>23.95</td>\n",
       "    </tr>\n",
       "    <tr>\n",
       "      <th>8</th>\n",
       "      <td>18.42</td>\n",
       "      <td>25.71</td>\n",
       "      <td>26.53</td>\n",
       "      <td>21.75</td>\n",
       "      <td>23.78</td>\n",
       "    </tr>\n",
       "  </tbody>\n",
       "</table>\n",
       "</div>"
      ],
      "text/plain": [
       "   AUTUMN  SUMMER  MONSOON  WINTER  ANNUAL\n",
       "0   18.71   26.06    27.30   21.92   24.23\n",
       "1   19.70   26.44    27.18   21.49   24.33\n",
       "2   19.05   25.47    27.17   21.27   23.80\n",
       "3   18.66   25.84    26.83   21.42   23.86\n",
       "4   17.58   24.99    27.37   21.48   23.71\n",
       "5   18.37   25.93    27.15   22.08   24.12\n",
       "6   19.35   24.89    26.89   21.76   23.87\n",
       "7   19.04   26.02    26.95   21.17   23.95\n",
       "8   18.42   25.71    26.53   21.75   23.78"
      ]
     },
     "execution_count": 3,
     "metadata": {},
     "output_type": "execute_result"
    }
   ],
   "source": [
    "cdf = df[['AUTUMN','SUMMER','MONSOON','WINTER','ANNUAL']]\n",
    "#9 rows to display\n",
    "cdf.head(9)"
   ]
  },
  {
   "cell_type": "code",
   "execution_count": 41,
   "metadata": {},
   "outputs": [
    {
     "data": {
      "image/png": "[encoded data removed]",
      "text/plain": [
       "<Figure size 432x288 with 2 Axes>"
      ]
     },
     "metadata": {
      "needs_background": "light"
     },
     "output_type": "display_data"
    }
   ],
   "source": [
    "viz = cdf[['AUTUMN','ANNUAL']]\n",
    "viz.hist()\n",
    "plt.show()"
   ]
  },
  {
   "cell_type": "code",
   "execution_count": 5,
   "metadata": {},
   "outputs": [
    {
     "data": {
      "image/png": "[encoded data removed]",
      "text/plain": [
       "<Figure size 432x288 with 1 Axes>"
      ]
     },
     "metadata": {
      "needs_background": "light"
     },
     "output_type": "display_data"
    }
   ],
   "source": [
    "plt.scatter(cdf.AUTUMN, cdf.ANNUAL,  color='blue')\n",
    "plt.xlabel(\"AUTUMN\")\n",
    "plt.ylabel(\"ANNUAL\")\n",
    "plt.show()"
   ]
  },
  {
   "cell_type": "code",
   "execution_count": 48,
   "metadata": {},
   "outputs": [],
   "source": [
    "msk = np.random.rand(len(df)) < 1.0\n",
    "train = cdf[msk]\n"
   ]
  },
  {
   "cell_type": "code",
   "execution_count": 32,
   "metadata": {},
   "outputs": [
    {
     "name": "stdout",
     "output_type": "stream",
     "text": [
      "Coefficients:  [[0.55094235]]\n",
      "Intercept:  [13.6680863]\n"
     ]
    }
   ],
   "source": [
    "regr = linear_model.LinearRegression()\n",
    "train_x = np.asanyarray(train[['AUTUMN']])\n",
    "train_y = np.asanyarray(train[['ANNUAL']])\n",
    "regr.fit (train_x, train_y)\n",
    "print ('Coefficients: ', regr.coef_)\n",
    "print ('Intercept: ',regr.intercept_)"
   ]
  },
  {
   "cell_type": "code",
   "execution_count": 33,
   "metadata": {},
   "outputs": [
    {
     "data": {
      "image/png": "[encoded data removed]",
      "text/plain": [
       "<Figure size 432x288 with 1 Axes>"
      ]
     },
     "metadata": {
      "needs_background": "light"
     },
     "output_type": "display_data"
    }
   ],
   "source": [
    "plt.scatter(train.AUTUMN, train.ANNUAL,  color='blue')\n",
    "plt.plot(train_x, regr.coef_[0][0]*train_x + regr.intercept_[0], '-r')\n",
    "plt.xlabel(\"AUTUMN\")\n",
    "plt.ylabel(\"ANNUAL\")\n",
    "plt.show()\n"
   ]
  },
  {
   "cell_type": "code",
   "execution_count": 34,
   "metadata": {},
   "outputs": [
    {
     "name": "stdout",
     "output_type": "stream",
     "text": [
      "Mean absolute error: 0.18\n",
      "Residual sum of squares (MSE): 0.05\n",
      "R2-score: 0.61\n"
     ]
    }
   ],
   "source": [
    "test_x = np.asanyarray(train[['AUTUMN']])\n",
    "test_y = np.asanyarray(train[['ANNUAL']])\n",
    "test_y_hat = regr.predict(test_x)\n",
    "\n",
    "print(\"Mean absolute error: %.2f\" % np.mean(np.absolute(test_y_hat - test_y)))\n",
    "print(\"Residual sum of squares (MSE): %.2f\" % np.mean((test_y_hat - test_y) ** 2))\n",
    "print(\"R2-score: %.2f\" % r2_score(test_y_hat , test_y) )"
   ]
  },
  {
   "cell_type": "code",
   "execution_count": 37,
   "metadata": {},
   "outputs": [
    {
     "data": {
      "text/html": [
       "<div>\n",
       "<style scoped>\n",
       "    .dataframe tbody tr th:only-of-type {\n",
       "        vertical-align: middle;\n",
       "    }\n",
       "\n",
       "    .dataframe tbody tr th {\n",
       "        vertical-align: top;\n",
       "    }\n",
       "\n",
       "    .dataframe thead th {\n",
       "        text-align: right;\n",
       "    }\n",
       "</style>\n",
       "<table border=\"1\" class=\"dataframe\">\n",
       "  <thead>\n",
       "    <tr style=\"text-align: right;\">\n",
       "      <th></th>\n",
       "      <th>YEAR</th>\n",
       "      <th>ANNUAL</th>\n",
       "      <th>AUTUMN</th>\n",
       "      <th>SUMMER</th>\n",
       "      <th>MONSOON</th>\n",
       "      <th>WINTER</th>\n",
       "    </tr>\n",
       "  </thead>\n",
       "  <tbody>\n",
       "    <tr>\n",
       "      <th>count</th>\n",
       "      <td>8.00000</td>\n",
       "      <td>8.000000</td>\n",
       "      <td>8.000000</td>\n",
       "      <td>8.000000</td>\n",
       "      <td>8.000000</td>\n",
       "      <td>8.000000</td>\n",
       "    </tr>\n",
       "    <tr>\n",
       "      <th>mean</th>\n",
       "      <td>2013.50000</td>\n",
       "      <td>25.211250</td>\n",
       "      <td>20.575000</td>\n",
       "      <td>27.176250</td>\n",
       "      <td>27.845000</td>\n",
       "      <td>23.003750</td>\n",
       "    </tr>\n",
       "    <tr>\n",
       "      <th>std</th>\n",
       "      <td>2.44949</td>\n",
       "      <td>0.731426</td>\n",
       "      <td>1.025782</td>\n",
       "      <td>1.040548</td>\n",
       "      <td>0.409878</td>\n",
       "      <td>0.765468</td>\n",
       "    </tr>\n",
       "    <tr>\n",
       "      <th>min</th>\n",
       "      <td>2010.00000</td>\n",
       "      <td>24.670000</td>\n",
       "      <td>19.320000</td>\n",
       "      <td>26.240000</td>\n",
       "      <td>27.460000</td>\n",
       "      <td>22.350000</td>\n",
       "    </tr>\n",
       "    <tr>\n",
       "      <th>25%</th>\n",
       "      <td>2011.75000</td>\n",
       "      <td>24.720000</td>\n",
       "      <td>19.975000</td>\n",
       "      <td>26.357500</td>\n",
       "      <td>27.530000</td>\n",
       "      <td>22.492500</td>\n",
       "    </tr>\n",
       "    <tr>\n",
       "      <th>50%</th>\n",
       "      <td>2013.50000</td>\n",
       "      <td>24.865000</td>\n",
       "      <td>20.375000</td>\n",
       "      <td>26.700000</td>\n",
       "      <td>27.720000</td>\n",
       "      <td>22.655000</td>\n",
       "    </tr>\n",
       "    <tr>\n",
       "      <th>75%</th>\n",
       "      <td>2015.25000</td>\n",
       "      <td>25.420000</td>\n",
       "      <td>21.070000</td>\n",
       "      <td>27.975000</td>\n",
       "      <td>28.020000</td>\n",
       "      <td>23.292500</td>\n",
       "    </tr>\n",
       "    <tr>\n",
       "      <th>max</th>\n",
       "      <td>2017.00000</td>\n",
       "      <td>26.450000</td>\n",
       "      <td>22.350000</td>\n",
       "      <td>28.860000</td>\n",
       "      <td>28.500000</td>\n",
       "      <td>24.210000</td>\n",
       "    </tr>\n",
       "  </tbody>\n",
       "</table>\n",
       "</div>"
      ],
      "text/plain": [
       "             YEAR     ANNUAL     AUTUMN     SUMMER    MONSOON     WINTER\n",
       "count     8.00000   8.000000   8.000000   8.000000   8.000000   8.000000\n",
       "mean   2013.50000  25.211250  20.575000  27.176250  27.845000  23.003750\n",
       "std       2.44949   0.731426   1.025782   1.040548   0.409878   0.765468\n",
       "min    2010.00000  24.670000  19.320000  26.240000  27.460000  22.350000\n",
       "25%    2011.75000  24.720000  19.975000  26.357500  27.530000  22.492500\n",
       "50%    2013.50000  24.865000  20.375000  26.700000  27.720000  22.655000\n",
       "75%    2015.25000  25.420000  21.070000  27.975000  28.020000  23.292500\n",
       "max    2017.00000  26.450000  22.350000  28.860000  28.500000  24.210000"
      ]
     },
     "execution_count": 37,
     "metadata": {},
     "output_type": "execute_result"
    }
   ],
   "source": [
    "rf=pd.read_csv(r\"D:\\ASHSIH\\ENGG\\COURSES\\MachineLearning\\MeanTemp1.csv\")\n",
    "rf.head()\n",
    "rf.describe()"
   ]
  },
  {
   "cell_type": "code",
   "execution_count": 38,
   "metadata": {},
   "outputs": [
    {
     "data": {
      "text/html": [
       "<div>\n",
       "<style scoped>\n",
       "    .dataframe tbody tr th:only-of-type {\n",
       "        vertical-align: middle;\n",
       "    }\n",
       "\n",
       "    .dataframe tbody tr th {\n",
       "        vertical-align: top;\n",
       "    }\n",
       "\n",
       "    .dataframe thead th {\n",
       "        text-align: right;\n",
       "    }\n",
       "</style>\n",
       "<table border=\"1\" class=\"dataframe\">\n",
       "  <thead>\n",
       "    <tr style=\"text-align: right;\">\n",
       "      <th></th>\n",
       "      <th>AUTUMN</th>\n",
       "      <th>SUMMER</th>\n",
       "      <th>MONSOON</th>\n",
       "      <th>WINTER</th>\n",
       "      <th>ANNUAL</th>\n",
       "    </tr>\n",
       "  </thead>\n",
       "  <tbody>\n",
       "    <tr>\n",
       "      <th>0</th>\n",
       "      <td>20.12</td>\n",
       "      <td>27.83</td>\n",
       "      <td>27.50</td>\n",
       "      <td>22.60</td>\n",
       "      <td>25.13</td>\n",
       "    </tr>\n",
       "    <tr>\n",
       "      <th>1</th>\n",
       "      <td>19.54</td>\n",
       "      <td>26.38</td>\n",
       "      <td>27.54</td>\n",
       "      <td>22.71</td>\n",
       "      <td>24.67</td>\n",
       "    </tr>\n",
       "    <tr>\n",
       "      <th>2</th>\n",
       "      <td>20.21</td>\n",
       "      <td>26.55</td>\n",
       "      <td>27.71</td>\n",
       "      <td>22.35</td>\n",
       "      <td>24.69</td>\n",
       "    </tr>\n",
       "    <tr>\n",
       "      <th>3</th>\n",
       "      <td>20.54</td>\n",
       "      <td>26.85</td>\n",
       "      <td>27.46</td>\n",
       "      <td>22.50</td>\n",
       "      <td>24.82</td>\n",
       "    </tr>\n",
       "    <tr>\n",
       "      <th>4</th>\n",
       "      <td>19.32</td>\n",
       "      <td>26.24</td>\n",
       "      <td>27.88</td>\n",
       "      <td>22.47</td>\n",
       "      <td>24.73</td>\n",
       "    </tr>\n",
       "    <tr>\n",
       "      <th>5</th>\n",
       "      <td>20.88</td>\n",
       "      <td>26.29</td>\n",
       "      <td>27.73</td>\n",
       "      <td>22.99</td>\n",
       "      <td>24.91</td>\n",
       "    </tr>\n",
       "    <tr>\n",
       "      <th>6</th>\n",
       "      <td>22.35</td>\n",
       "      <td>28.86</td>\n",
       "      <td>28.44</td>\n",
       "      <td>24.20</td>\n",
       "      <td>26.45</td>\n",
       "    </tr>\n",
       "    <tr>\n",
       "      <th>7</th>\n",
       "      <td>21.64</td>\n",
       "      <td>28.41</td>\n",
       "      <td>28.50</td>\n",
       "      <td>24.21</td>\n",
       "      <td>26.29</td>\n",
       "    </tr>\n",
       "  </tbody>\n",
       "</table>\n",
       "</div>"
      ],
      "text/plain": [
       "   AUTUMN  SUMMER  MONSOON  WINTER  ANNUAL\n",
       "0   20.12   27.83    27.50   22.60   25.13\n",
       "1   19.54   26.38    27.54   22.71   24.67\n",
       "2   20.21   26.55    27.71   22.35   24.69\n",
       "3   20.54   26.85    27.46   22.50   24.82\n",
       "4   19.32   26.24    27.88   22.47   24.73\n",
       "5   20.88   26.29    27.73   22.99   24.91\n",
       "6   22.35   28.86    28.44   24.20   26.45\n",
       "7   21.64   28.41    28.50   24.21   26.29"
      ]
     },
     "execution_count": 38,
     "metadata": {},
     "output_type": "execute_result"
    }
   ],
   "source": [
    "rdf = rf[['AUTUMN','SUMMER','MONSOON','WINTER','ANNUAL']]\n",
    "#9 rows to display\n",
    "rdf.head(9)"
   ]
  },
  {
   "cell_type": "code",
   "execution_count": 43,
   "metadata": {},
   "outputs": [
    {
     "data": {
      "image/png": "[encoded data removed]",
      "text/plain": [
       "<Figure size 432x288 with 2 Axes>"
      ]
     },
     "metadata": {
      "needs_background": "light"
     },
     "output_type": "display_data"
    }
   ],
   "source": [
    "vizz = rdf[['AUTUMN','ANNUAL']]\n",
    "vizz.hist()\n",
    "plt.show()"
   ]
  },
  {
   "cell_type": "code",
   "execution_count": 45,
   "metadata": {},
   "outputs": [
    {
     "data": {
      "image/png": "[encoded data removed]",
      "text/plain": [
       "<Figure size 432x288 with 1 Axes>"
      ]
     },
     "metadata": {
      "needs_background": "light"
     },
     "output_type": "display_data"
    }
   ],
   "source": [
    "plt.scatter(rdf.AUTUMN, rdf.ANNUAL,  color='blue')\n",
    "plt.xlabel(\"AUTUMN\")\n",
    "plt.ylabel(\"ANNUAL\")\n",
    "plt.show()"
   ]
  },
  {
   "cell_type": "code",
   "execution_count": 47,
   "metadata": {},
   "outputs": [],
   "source": [
    "rmsk = np.random.rand(len(rf)) < 1.0\n",
    "test = rdf[rmsk]"
   ]
  },
  {
   "cell_type": "code",
   "execution_count": 51,
   "metadata": {},
   "outputs": [
    {
     "name": "stdout",
     "output_type": "stream",
     "text": [
      "y val: [[24.75304635]\n",
      " [24.43349979]\n",
      " [24.80263116]\n",
      " [24.98444213]\n",
      " [24.31229247]\n",
      " [25.17176253]\n",
      " [25.98164778]\n",
      " [25.59047872]]\n",
      "Mean absolute error: 0.34\n",
      "Residual sum of squares (MSE): 0.15\n",
      "R2-score: 0.47\n"
     ]
    }
   ],
   "source": [
    "test_x = np.asanyarray(test[['AUTUMN']])\n",
    "test_y = np.asanyarray(test[['ANNUAL']])\n",
    "test_y_hat = regr.predict(test_x)\n",
    "print(\"y val:\",test_y_hat)\n",
    "\n",
    "print(\"Mean absolute error: %.2f\" % np.mean(np.absolute(test_y_hat - test_y)))\n",
    "print(\"Residual sum of squares (MSE): %.2f\" % np.mean((test_y_hat - test_y) ** 2))\n",
    "print(\"R2-score: %.2f\" % r2_score(test_y_hat , test_y) )"
   ]
  },
  {
   "cell_type": "code",
   "execution_count": 54,
   "metadata": {},
   "outputs": [
    {
     "data": {
      "image/png": "[encoded data removed]",
      "text/plain": [
       "<Figure size 432x288 with 1 Axes>"
      ]
     },
     "metadata": {
      "needs_background": "light"
     },
     "output_type": "display_data"
    },
    {
     "data": {
      "image/png": "[encoded data removed]",
      "text/plain": [
       "<Figure size 432x288 with 1 Axes>"
      ]
     },
     "metadata": {
      "needs_background": "light"
     },
     "output_type": "display_data"
    }
   ],
   "source": [
    "plt.scatter(rdf.AUTUMN, rdf.ANNUAL,  color='blue')\n",
    "plt.xlabel(\"AUTUMN\")\n",
    "plt.ylabel(\"ANNUAL\")\n",
    "plt.show()\n",
    "plt.scatter(rdf.AUTUMN, test_y_hat,  color='blue')\n",
    "plt.xlabel(\"AUTUMN\")\n",
    "plt.ylabel(\"ANNUAL PREDICTED\")\n",
    "plt.show()\n"
   ]
  },
  {
   "cell_type": "code",
   "execution_count": null,
   "metadata": {},
   "outputs": [],
   "source": []
  },
  {
   "cell_type": "code",
   "execution_count": null,
   "metadata": {},
   "outputs": [],
   "source": []
  }
 ],
 "metadata": {
  "kernelspec": {
   "display_name": "Python 3",
   "language": "python",
   "name": "python3"
  },
  "language_info": {
   "codemirror_mode": {
    "name": "ipython",
    "version": 3
   },
   "file_extension": ".py",
   "mimetype": "text/x-python",
   "name": "python",
   "nbconvert_exporter": "python",
   "pygments_lexer": "ipython3",
   "version": "3.6.8"
  }
 },
 "nbformat": 4,
 "nbformat_minor": 4
}
